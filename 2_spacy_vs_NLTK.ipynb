{
  "nbformat": 4,
  "nbformat_minor": 0,
  "metadata": {
    "colab": {
      "provenance": []
    },
    "kernelspec": {
      "name": "python3",
      "display_name": "Python 3"
    },
    "language_info": {
      "name": "python"
    }
  },
  "cells": [
    {
      "cell_type": "markdown",
      "source": [
        "\n",
        "\n",
        "1. SpaCy is object oriented \n",
        "2. NLTK is not object oriented it is a string processing library\n",
        "3. NLTK gives you mmore control\n",
        "4. Spacy perfect for developers \n",
        "5. NLTK perfect for researchers \n",
        "\n",
        "\n",
        "\n",
        "\n",
        "\n",
        "\n"
      ],
      "metadata": {
        "id": "Y_Nz1utJk6zA"
      }
    },
    {
      "cell_type": "markdown",
      "source": [
        "## with SpaCy\n"
      ],
      "metadata": {
        "id": "VAWtcnv-nQXc"
      }
    },
    {
      "cell_type": "code",
      "execution_count": 1,
      "metadata": {
        "colab": {
          "base_uri": "https://localhost:8080/"
        },
        "id": "L2syWTo9khBB",
        "outputId": "abc9122b-7af9-449f-f360-0aa3f91dfbb9"
      },
      "outputs": [
        {
          "output_type": "stream",
          "name": "stderr",
          "text": [
            "/usr/local/lib/python3.8/dist-packages/torch/cuda/__init__.py:497: UserWarning: Can't initialize NVML\n",
            "  warnings.warn(\"Can't initialize NVML\")\n"
          ]
        }
      ],
      "source": [
        "import spacy "
      ]
    },
    {
      "cell_type": "code",
      "source": [
        "nlp = spacy.load(\"en_core_web_sm\")"
      ],
      "metadata": {
        "id": "_EUO7mOrkle_"
      },
      "execution_count": 3,
      "outputs": []
    },
    {
      "cell_type": "code",
      "source": [
        "doc=nlp(\"spaCy is an open-source software library for advanced natural language processing, written in the programming languages Python and Cython.The library is published under the MIT license and its main developers are Matthew Honnibal and Ines Montani, the founders of the software company Explosion.\")"
      ],
      "metadata": {
        "id": "gwkQ98BYkqVt"
      },
      "execution_count": 6,
      "outputs": []
    },
    {
      "cell_type": "markdown",
      "source": [
        "extract sentences"
      ],
      "metadata": {
        "id": "_bIGIr-pmU6T"
      }
    },
    {
      "cell_type": "code",
      "source": [
        "for sentence in doc.sents : \n",
        "  print(sentence)\n"
      ],
      "metadata": {
        "colab": {
          "base_uri": "https://localhost:8080/"
        },
        "id": "HUIaJ1bNlWPR",
        "outputId": "3c2bfbdd-f0c4-44c5-d13f-ff98b2d61db9"
      },
      "execution_count": 11,
      "outputs": [
        {
          "output_type": "stream",
          "name": "stdout",
          "text": [
            "spaCy is an open-source software library for advanced natural language processing, written in the programming languages Python and Cython.\n",
            "The library is published under the MIT license and its main developers are Matthew Honnibal and Ines Montani, the founders of the software company Explosion.\n"
          ]
        }
      ]
    },
    {
      "cell_type": "markdown",
      "source": [
        "extract words"
      ],
      "metadata": {
        "id": "ow8VeIwMm_Gl"
      }
    },
    {
      "cell_type": "code",
      "source": [
        "for sentence in doc.sents : \n",
        "  for word in sentence:\n",
        "    print(word)\n"
      ],
      "metadata": {
        "colab": {
          "base_uri": "https://localhost:8080/"
        },
        "id": "AqDQqMdRlXfN",
        "outputId": "444e8077-0dfa-42e7-e10f-57310f9acf06"
      },
      "execution_count": 12,
      "outputs": [
        {
          "output_type": "stream",
          "name": "stdout",
          "text": [
            "spaCy\n",
            "is\n",
            "an\n",
            "open\n",
            "-\n",
            "source\n",
            "software\n",
            "library\n",
            "for\n",
            "advanced\n",
            "natural\n",
            "language\n",
            "processing\n",
            ",\n",
            "written\n",
            "in\n",
            "the\n",
            "programming\n",
            "languages\n",
            "Python\n",
            "and\n",
            "Cython\n",
            ".\n",
            "The\n",
            "library\n",
            "is\n",
            "published\n",
            "under\n",
            "the\n",
            "MIT\n",
            "license\n",
            "and\n",
            "its\n",
            "main\n",
            "developers\n",
            "are\n",
            "Matthew\n",
            "Honnibal\n",
            "and\n",
            "Ines\n",
            "Montani\n",
            ",\n",
            "the\n",
            "founders\n",
            "of\n",
            "the\n",
            "software\n",
            "company\n",
            "Explosion\n",
            ".\n"
          ]
        }
      ]
    },
    {
      "cell_type": "markdown",
      "source": [
        "## with NLTK"
      ],
      "metadata": {
        "id": "x8q8K6EHnVWX"
      }
    },
    {
      "cell_type": "code",
      "source": [
        "import nltk \n",
        "from nltk.tokenize import sent_tokenize\n",
        "nltk.download('punkt')"
      ],
      "metadata": {
        "colab": {
          "base_uri": "https://localhost:8080/"
        },
        "id": "H-tqOXO-nJfR",
        "outputId": "29c611c6-60cb-4df2-d4e1-7993e73d1a5d"
      },
      "execution_count": 16,
      "outputs": [
        {
          "output_type": "stream",
          "name": "stderr",
          "text": [
            "[nltk_data] Downloading package punkt to /root/nltk_data...\n",
            "[nltk_data]   Unzipping tokenizers/punkt.zip.\n"
          ]
        },
        {
          "output_type": "execute_result",
          "data": {
            "text/plain": [
              "True"
            ]
          },
          "metadata": {},
          "execution_count": 16
        }
      ]
    },
    {
      "cell_type": "code",
      "source": [
        "sent_tokenize(\"spaCy is an open-source software library for advanced natural language processing, written in the programming languages Python and Cython.The library is published under the MIT license and its main developers are Matthew Honnibal and Ines Montani, the founders of the software company Explosion.\")"
      ],
      "metadata": {
        "colab": {
          "base_uri": "https://localhost:8080/"
        },
        "id": "cVaQDibGnbhf",
        "outputId": "30b373be-6844-4e9e-a185-6c1ded9f85a9"
      },
      "execution_count": 17,
      "outputs": [
        {
          "output_type": "execute_result",
          "data": {
            "text/plain": [
              "['spaCy is an open-source software library for advanced natural language processing, written in the programming languages Python and Cython.The library is published under the MIT license and its main developers are Matthew Honnibal and Ines Montani, the founders of the software company Explosion.']"
            ]
          },
          "metadata": {},
          "execution_count": 17
        }
      ]
    },
    {
      "cell_type": "code",
      "source": [
        "from nltk.tokenize import word_tokenize"
      ],
      "metadata": {
        "id": "NYNgTMUgowPD"
      },
      "execution_count": 18,
      "outputs": []
    },
    {
      "cell_type": "code",
      "source": [
        "word_tokenize(\"spaCy is an open-source software library for advanced natural language processing, written in the programming languages Python and Cython.The library is published under the MIT license and its main developers are Matthew Honnibal and Ines Montani, the founders of the software company Explosion.\")"
      ],
      "metadata": {
        "colab": {
          "base_uri": "https://localhost:8080/"
        },
        "id": "iSUa8FMbpa8J",
        "outputId": "ccd8e90c-13ca-4848-88b7-150756dc7a7a"
      },
      "execution_count": 19,
      "outputs": [
        {
          "output_type": "execute_result",
          "data": {
            "text/plain": [
              "['spaCy',\n",
              " 'is',\n",
              " 'an',\n",
              " 'open-source',\n",
              " 'software',\n",
              " 'library',\n",
              " 'for',\n",
              " 'advanced',\n",
              " 'natural',\n",
              " 'language',\n",
              " 'processing',\n",
              " ',',\n",
              " 'written',\n",
              " 'in',\n",
              " 'the',\n",
              " 'programming',\n",
              " 'languages',\n",
              " 'Python',\n",
              " 'and',\n",
              " 'Cython.The',\n",
              " 'library',\n",
              " 'is',\n",
              " 'published',\n",
              " 'under',\n",
              " 'the',\n",
              " 'MIT',\n",
              " 'license',\n",
              " 'and',\n",
              " 'its',\n",
              " 'main',\n",
              " 'developers',\n",
              " 'are',\n",
              " 'Matthew',\n",
              " 'Honnibal',\n",
              " 'and',\n",
              " 'Ines',\n",
              " 'Montani',\n",
              " ',',\n",
              " 'the',\n",
              " 'founders',\n",
              " 'of',\n",
              " 'the',\n",
              " 'software',\n",
              " 'company',\n",
              " 'Explosion',\n",
              " '.']"
            ]
          },
          "metadata": {},
          "execution_count": 19
        }
      ]
    },
    {
      "cell_type": "code",
      "source": [],
      "metadata": {
        "id": "CjEx1g8opesV"
      },
      "execution_count": null,
      "outputs": []
    }
  ]
}