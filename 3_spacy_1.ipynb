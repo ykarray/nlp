{
  "nbformat": 4,
  "nbformat_minor": 0,
  "metadata": {
    "colab": {
      "provenance": []
    },
    "kernelspec": {
      "name": "python3",
      "display_name": "Python 3"
    },
    "language_info": {
      "name": "python"
    }
  },
  "cells": [
    {
      "cell_type": "code",
      "execution_count": 1,
      "metadata": {
        "colab": {
          "base_uri": "https://localhost:8080/"
        },
        "id": "Jv_rQu5urcoW",
        "outputId": "67ee0d72-6fb0-4ff9-856b-64eaa98f5e62"
      },
      "outputs": [
        {
          "output_type": "stream",
          "name": "stderr",
          "text": [
            "/usr/local/lib/python3.8/dist-packages/torch/cuda/__init__.py:497: UserWarning: Can't initialize NVML\n",
            "  warnings.warn(\"Can't initialize NVML\")\n"
          ]
        }
      ],
      "source": [
        "import spacy"
      ]
    },
    {
      "cell_type": "code",
      "source": [
        "nlp=spacy.blank('en')#en=english"
      ],
      "metadata": {
        "id": "jEoxNBOCtFAu"
      },
      "execution_count": 2,
      "outputs": []
    },
    {
      "cell_type": "code",
      "source": [
        "doc=nlp(\"Berbers, also called Amazigh or Imazighen , are an ethnic group indigenous to the Maghreb region of North Africa, specifically Morocco, Algeria, Tunisia, and Libya, and to a lesser extent Mauritania, northern Mali, and northern Niger.Smaller Berber communities are also found in Burkina Faso and Egypt Siwa Oasis.Historically, Berber nations have spoken Berber languages, which are a branch of the Afroasiatic language family.\")"
      ],
      "metadata": {
        "id": "xhDgdEHqrzDx"
      },
      "execution_count": 3,
      "outputs": []
    },
    {
      "cell_type": "markdown",
      "source": [
        "### word tokenization "
      ],
      "metadata": {
        "id": "ELMwe-E4tiVD"
      }
    },
    {
      "cell_type": "code",
      "source": [
        "for token in doc:\n",
        "  print(token)"
      ],
      "metadata": {
        "colab": {
          "base_uri": "https://localhost:8080/"
        },
        "id": "9btMitPjtRZI",
        "outputId": "95e2cb75-db98-4d9f-dbcd-30bc1e2a73ae"
      },
      "execution_count": 4,
      "outputs": [
        {
          "output_type": "stream",
          "name": "stdout",
          "text": [
            "Berbers\n",
            ",\n",
            "also\n",
            "called\n",
            "Amazigh\n",
            "or\n",
            "Imazighen\n",
            ",\n",
            "are\n",
            "an\n",
            "ethnic\n",
            "group\n",
            "indigenous\n",
            "to\n",
            "the\n",
            "Maghreb\n",
            "region\n",
            "of\n",
            "North\n",
            "Africa\n",
            ",\n",
            "specifically\n",
            "Morocco\n",
            ",\n",
            "Algeria\n",
            ",\n",
            "Tunisia\n",
            ",\n",
            "and\n",
            "Libya\n",
            ",\n",
            "and\n",
            "to\n",
            "a\n",
            "lesser\n",
            "extent\n",
            "Mauritania\n",
            ",\n",
            "northern\n",
            "Mali\n",
            ",\n",
            "and\n",
            "northern\n",
            "Niger\n",
            ".\n",
            "Smaller\n",
            "Berber\n",
            "communities\n",
            "are\n",
            "also\n",
            "found\n",
            "in\n",
            "Burkina\n",
            "Faso\n",
            "and\n",
            "Egypt\n",
            "Siwa\n",
            "Oasis\n",
            ".\n",
            "Historically\n",
            ",\n",
            "Berber\n",
            "nations\n",
            "have\n",
            "spoken\n",
            "Berber\n",
            "languages\n",
            ",\n",
            "which\n",
            "are\n",
            "a\n",
            "branch\n",
            "of\n",
            "the\n",
            "Afroasiatic\n",
            "language\n",
            "family\n",
            ".\n"
          ]
        }
      ]
    },
    {
      "cell_type": "code",
      "source": [
        "doc[0]"
      ],
      "metadata": {
        "colab": {
          "base_uri": "https://localhost:8080/"
        },
        "id": "3ln6pEuytdzE",
        "outputId": "43573212-1542-4f3f-9af1-22b5692f499d"
      },
      "execution_count": 5,
      "outputs": [
        {
          "output_type": "execute_result",
          "data": {
            "text/plain": [
              "Berbers"
            ]
          },
          "metadata": {},
          "execution_count": 5
        }
      ]
    },
    {
      "cell_type": "code",
      "source": [
        "len(doc)"
      ],
      "metadata": {
        "colab": {
          "base_uri": "https://localhost:8080/"
        },
        "id": "5TeJ3ii5uU0e",
        "outputId": "1e004bca-2d52-40cb-fe67-2a19646d1f4b"
      },
      "execution_count": 6,
      "outputs": [
        {
          "output_type": "execute_result",
          "data": {
            "text/plain": [
              "78"
            ]
          },
          "metadata": {},
          "execution_count": 6
        }
      ]
    },
    {
      "cell_type": "code",
      "source": [
        "doc[77]"
      ],
      "metadata": {
        "colab": {
          "base_uri": "https://localhost:8080/"
        },
        "id": "m1G8yCc3uW8H",
        "outputId": "61633026-64fd-4e47-af78-7466812b19fe"
      },
      "execution_count": 7,
      "outputs": [
        {
          "output_type": "execute_result",
          "data": {
            "text/plain": [
              "."
            ]
          },
          "metadata": {},
          "execution_count": 7
        }
      ]
    },
    {
      "cell_type": "code",
      "source": [
        "doc[-1]\n"
      ],
      "metadata": {
        "colab": {
          "base_uri": "https://localhost:8080/"
        },
        "id": "ndCtLYRYuZSF",
        "outputId": "68c6cdf0-9a7b-41a4-f264-d924d5acdb12"
      },
      "execution_count": 8,
      "outputs": [
        {
          "output_type": "execute_result",
          "data": {
            "text/plain": [
              "."
            ]
          },
          "metadata": {},
          "execution_count": 8
        }
      ]
    },
    {
      "cell_type": "markdown",
      "source": [
        "the span type is a sub string"
      ],
      "metadata": {
        "id": "AkKLAeVoJoS4"
      }
    },
    {
      "cell_type": "code",
      "source": [
        "span=doc[0:5]\n",
        "print(span)\n",
        "type(span)"
      ],
      "metadata": {
        "colab": {
          "base_uri": "https://localhost:8080/"
        },
        "id": "fpnNheMUuiz1",
        "outputId": "329e8f2b-a297-41a2-810c-02049ab65adf"
      },
      "execution_count": 9,
      "outputs": [
        {
          "output_type": "stream",
          "name": "stdout",
          "text": [
            "Berbers, also called Amazigh\n"
          ]
        },
        {
          "output_type": "execute_result",
          "data": {
            "text/plain": [
              "spacy.tokens.span.Span"
            ]
          },
          "metadata": {},
          "execution_count": 9
        }
      ]
    },
    {
      "cell_type": "code",
      "source": [
        "token_0=doc[0]"
      ],
      "metadata": {
        "id": "YrGTJE9jJDBq"
      },
      "execution_count": 10,
      "outputs": []
    },
    {
      "cell_type": "markdown",
      "source": [
        "dir give you all the methods related to that class "
      ],
      "metadata": {
        "id": "7lCUPqm1KPbv"
      }
    },
    {
      "cell_type": "code",
      "source": [
        "dir(token_0)"
      ],
      "metadata": {
        "colab": {
          "base_uri": "https://localhost:8080/"
        },
        "id": "-21s9fMKJ-8R",
        "outputId": "5695bb68-2ac7-439a-8dc2-772f6e21e828"
      },
      "execution_count": 11,
      "outputs": [
        {
          "output_type": "execute_result",
          "data": {
            "text/plain": [
              "['_',\n",
              " '__bytes__',\n",
              " '__class__',\n",
              " '__delattr__',\n",
              " '__dir__',\n",
              " '__doc__',\n",
              " '__eq__',\n",
              " '__format__',\n",
              " '__ge__',\n",
              " '__getattribute__',\n",
              " '__gt__',\n",
              " '__hash__',\n",
              " '__init__',\n",
              " '__init_subclass__',\n",
              " '__le__',\n",
              " '__len__',\n",
              " '__lt__',\n",
              " '__ne__',\n",
              " '__new__',\n",
              " '__pyx_vtable__',\n",
              " '__reduce__',\n",
              " '__reduce_ex__',\n",
              " '__repr__',\n",
              " '__setattr__',\n",
              " '__sizeof__',\n",
              " '__str__',\n",
              " '__subclasshook__',\n",
              " '__unicode__',\n",
              " 'ancestors',\n",
              " 'check_flag',\n",
              " 'children',\n",
              " 'cluster',\n",
              " 'conjuncts',\n",
              " 'dep',\n",
              " 'dep_',\n",
              " 'doc',\n",
              " 'ent_id',\n",
              " 'ent_id_',\n",
              " 'ent_iob',\n",
              " 'ent_iob_',\n",
              " 'ent_kb_id',\n",
              " 'ent_kb_id_',\n",
              " 'ent_type',\n",
              " 'ent_type_',\n",
              " 'get_extension',\n",
              " 'has_dep',\n",
              " 'has_extension',\n",
              " 'has_head',\n",
              " 'has_morph',\n",
              " 'has_vector',\n",
              " 'head',\n",
              " 'i',\n",
              " 'idx',\n",
              " 'iob_strings',\n",
              " 'is_alpha',\n",
              " 'is_ancestor',\n",
              " 'is_ascii',\n",
              " 'is_bracket',\n",
              " 'is_currency',\n",
              " 'is_digit',\n",
              " 'is_left_punct',\n",
              " 'is_lower',\n",
              " 'is_oov',\n",
              " 'is_punct',\n",
              " 'is_quote',\n",
              " 'is_right_punct',\n",
              " 'is_sent_end',\n",
              " 'is_sent_start',\n",
              " 'is_space',\n",
              " 'is_stop',\n",
              " 'is_title',\n",
              " 'is_upper',\n",
              " 'lang',\n",
              " 'lang_',\n",
              " 'left_edge',\n",
              " 'lefts',\n",
              " 'lemma',\n",
              " 'lemma_',\n",
              " 'lex',\n",
              " 'lex_id',\n",
              " 'like_email',\n",
              " 'like_num',\n",
              " 'like_url',\n",
              " 'lower',\n",
              " 'lower_',\n",
              " 'morph',\n",
              " 'n_lefts',\n",
              " 'n_rights',\n",
              " 'nbor',\n",
              " 'norm',\n",
              " 'norm_',\n",
              " 'orth',\n",
              " 'orth_',\n",
              " 'pos',\n",
              " 'pos_',\n",
              " 'prefix',\n",
              " 'prefix_',\n",
              " 'prob',\n",
              " 'rank',\n",
              " 'remove_extension',\n",
              " 'right_edge',\n",
              " 'rights',\n",
              " 'sent',\n",
              " 'sent_start',\n",
              " 'sentiment',\n",
              " 'set_extension',\n",
              " 'set_morph',\n",
              " 'shape',\n",
              " 'shape_',\n",
              " 'similarity',\n",
              " 'subtree',\n",
              " 'suffix',\n",
              " 'suffix_',\n",
              " 'tag',\n",
              " 'tag_',\n",
              " 'tensor',\n",
              " 'text',\n",
              " 'text_with_ws',\n",
              " 'vector',\n",
              " 'vector_norm',\n",
              " 'vocab',\n",
              " 'whitespace_']"
            ]
          },
          "metadata": {},
          "execution_count": 11
        }
      ]
    },
    {
      "cell_type": "markdown",
      "source": [
        "our object is of class token"
      ],
      "metadata": {
        "id": "AghEcM1WKh2n"
      }
    },
    {
      "cell_type": "code",
      "source": [
        "type(token_0)"
      ],
      "metadata": {
        "colab": {
          "base_uri": "https://localhost:8080/"
        },
        "id": "oFF1oaWIKBXh",
        "outputId": "7e6d66ed-3fe4-424b-d268-0d7b1a775957"
      },
      "execution_count": 12,
      "outputs": [
        {
          "output_type": "execute_result",
          "data": {
            "text/plain": [
              "spacy.tokens.token.Token"
            ]
          },
          "metadata": {},
          "execution_count": 12
        }
      ]
    },
    {
      "cell_type": "code",
      "source": [
        "token_0.is_alpha"
      ],
      "metadata": {
        "colab": {
          "base_uri": "https://localhost:8080/"
        },
        "id": "_lPaZgtNKflj",
        "outputId": "883b3131-9d17-4975-f548-0e4d5ba14f47"
      },
      "execution_count": 13,
      "outputs": [
        {
          "output_type": "execute_result",
          "data": {
            "text/plain": [
              "True"
            ]
          },
          "metadata": {},
          "execution_count": 13
        }
      ]
    },
    {
      "cell_type": "code",
      "source": [
        "token_0.is_digit"
      ],
      "metadata": {
        "colab": {
          "base_uri": "https://localhost:8080/"
        },
        "id": "sL_Xt7oNKvZo",
        "outputId": "5f48e335-89ff-498a-ba78-e79709d11e7b"
      },
      "execution_count": 14,
      "outputs": [
        {
          "output_type": "execute_result",
          "data": {
            "text/plain": [
              "False"
            ]
          },
          "metadata": {},
          "execution_count": 14
        }
      ]
    },
    {
      "cell_type": "code",
      "source": [
        "doc2=nlp(\"two\")"
      ],
      "metadata": {
        "id": "c03df769K2SL"
      },
      "execution_count": 15,
      "outputs": []
    },
    {
      "cell_type": "code",
      "source": [
        "token_2=doc2[0]"
      ],
      "metadata": {
        "id": "0mSF7ubxLDUW"
      },
      "execution_count": 16,
      "outputs": []
    },
    {
      "cell_type": "code",
      "source": [
        "token_2.is_alpha"
      ],
      "metadata": {
        "colab": {
          "base_uri": "https://localhost:8080/"
        },
        "id": "SBIJZyH5LIgn",
        "outputId": "ab82b016-3dd1-421c-9b1e-675574138063"
      },
      "execution_count": 17,
      "outputs": [
        {
          "output_type": "execute_result",
          "data": {
            "text/plain": [
              "True"
            ]
          },
          "metadata": {},
          "execution_count": 17
        }
      ]
    },
    {
      "cell_type": "code",
      "source": [
        "token_2.is_digit"
      ],
      "metadata": {
        "colab": {
          "base_uri": "https://localhost:8080/"
        },
        "id": "ib_9mJjgLLfX",
        "outputId": "3f3cb282-1d57-4664-b8d6-1ca5083a8416"
      },
      "execution_count": 18,
      "outputs": [
        {
          "output_type": "execute_result",
          "data": {
            "text/plain": [
              "False"
            ]
          },
          "metadata": {},
          "execution_count": 18
        }
      ]
    },
    {
      "cell_type": "code",
      "source": [
        "token_2.like_num"
      ],
      "metadata": {
        "colab": {
          "base_uri": "https://localhost:8080/"
        },
        "id": "Xn2kHxWDLQSk",
        "outputId": "e7e17f42-0c68-4853-9b69-130bae7c6fc3"
      },
      "execution_count": 19,
      "outputs": [
        {
          "output_type": "execute_result",
          "data": {
            "text/plain": [
              "True"
            ]
          },
          "metadata": {},
          "execution_count": 19
        }
      ]
    },
    {
      "cell_type": "code",
      "source": [
        "doc3=nlp(\"email@gamil.com\")"
      ],
      "metadata": {
        "id": "BOcU5SUdLU42"
      },
      "execution_count": 20,
      "outputs": []
    },
    {
      "cell_type": "code",
      "source": [
        "token_3=doc3[0]"
      ],
      "metadata": {
        "id": "fD7CV5MoLcKI"
      },
      "execution_count": 21,
      "outputs": []
    },
    {
      "cell_type": "code",
      "source": [
        "token_3.like_email"
      ],
      "metadata": {
        "colab": {
          "base_uri": "https://localhost:8080/"
        },
        "id": "nVAEdKv-Lfk9",
        "outputId": "89531042-a98b-4c4e-e125-9a86332f14f6"
      },
      "execution_count": 22,
      "outputs": [
        {
          "output_type": "execute_result",
          "data": {
            "text/plain": [
              "True"
            ]
          },
          "metadata": {},
          "execution_count": 22
        }
      ]
    },
    {
      "cell_type": "code",
      "source": [
        "doc4=nlp(\"$\")\n",
        "token_4=doc4[0]"
      ],
      "metadata": {
        "id": "pKN4EQR7LjiN"
      },
      "execution_count": 23,
      "outputs": []
    },
    {
      "cell_type": "code",
      "source": [
        "token_4.is_currency"
      ],
      "metadata": {
        "colab": {
          "base_uri": "https://localhost:8080/"
        },
        "id": "uWyCBTc1L2AP",
        "outputId": "24e57c2d-254e-4aa5-e86d-8bfd4bdcd5cc"
      },
      "execution_count": 24,
      "outputs": [
        {
          "output_type": "execute_result",
          "data": {
            "text/plain": [
              "True"
            ]
          },
          "metadata": {},
          "execution_count": 24
        }
      ]
    },
    {
      "cell_type": "code",
      "source": [
        "for token in doc :\n",
        "  print(token,\"==>\",\"index:\",token.i,\n",
        "        \"is_alpha: \",token.is_alpha,\n",
        "        \"is_punct: \",token.is_punct,\n",
        "        \"like_num: \",token.like_num,\n",
        "        \"is_currency: \",token.is_currency,\n",
        "        )"
      ],
      "metadata": {
        "colab": {
          "base_uri": "https://localhost:8080/"
        },
        "id": "6XuC6cHlL_Xm",
        "outputId": "4a9ea0fd-8df3-49c4-b545-5c6e03755acf"
      },
      "execution_count": 25,
      "outputs": [
        {
          "output_type": "stream",
          "name": "stdout",
          "text": [
            "Berbers ==> index: 0 is_alpha:  True is_punct:  False like_num:  False is_currency:  False\n",
            ", ==> index: 1 is_alpha:  False is_punct:  True like_num:  False is_currency:  False\n",
            "also ==> index: 2 is_alpha:  True is_punct:  False like_num:  False is_currency:  False\n",
            "called ==> index: 3 is_alpha:  True is_punct:  False like_num:  False is_currency:  False\n",
            "Amazigh ==> index: 4 is_alpha:  True is_punct:  False like_num:  False is_currency:  False\n",
            "or ==> index: 5 is_alpha:  True is_punct:  False like_num:  False is_currency:  False\n",
            "Imazighen ==> index: 6 is_alpha:  True is_punct:  False like_num:  False is_currency:  False\n",
            ", ==> index: 7 is_alpha:  False is_punct:  True like_num:  False is_currency:  False\n",
            "are ==> index: 8 is_alpha:  True is_punct:  False like_num:  False is_currency:  False\n",
            "an ==> index: 9 is_alpha:  True is_punct:  False like_num:  False is_currency:  False\n",
            "ethnic ==> index: 10 is_alpha:  True is_punct:  False like_num:  False is_currency:  False\n",
            "group ==> index: 11 is_alpha:  True is_punct:  False like_num:  False is_currency:  False\n",
            "indigenous ==> index: 12 is_alpha:  True is_punct:  False like_num:  False is_currency:  False\n",
            "to ==> index: 13 is_alpha:  True is_punct:  False like_num:  False is_currency:  False\n",
            "the ==> index: 14 is_alpha:  True is_punct:  False like_num:  False is_currency:  False\n",
            "Maghreb ==> index: 15 is_alpha:  True is_punct:  False like_num:  False is_currency:  False\n",
            "region ==> index: 16 is_alpha:  True is_punct:  False like_num:  False is_currency:  False\n",
            "of ==> index: 17 is_alpha:  True is_punct:  False like_num:  False is_currency:  False\n",
            "North ==> index: 18 is_alpha:  True is_punct:  False like_num:  False is_currency:  False\n",
            "Africa ==> index: 19 is_alpha:  True is_punct:  False like_num:  False is_currency:  False\n",
            ", ==> index: 20 is_alpha:  False is_punct:  True like_num:  False is_currency:  False\n",
            "specifically ==> index: 21 is_alpha:  True is_punct:  False like_num:  False is_currency:  False\n",
            "Morocco ==> index: 22 is_alpha:  True is_punct:  False like_num:  False is_currency:  False\n",
            ", ==> index: 23 is_alpha:  False is_punct:  True like_num:  False is_currency:  False\n",
            "Algeria ==> index: 24 is_alpha:  True is_punct:  False like_num:  False is_currency:  False\n",
            ", ==> index: 25 is_alpha:  False is_punct:  True like_num:  False is_currency:  False\n",
            "Tunisia ==> index: 26 is_alpha:  True is_punct:  False like_num:  False is_currency:  False\n",
            ", ==> index: 27 is_alpha:  False is_punct:  True like_num:  False is_currency:  False\n",
            "and ==> index: 28 is_alpha:  True is_punct:  False like_num:  False is_currency:  False\n",
            "Libya ==> index: 29 is_alpha:  True is_punct:  False like_num:  False is_currency:  False\n",
            ", ==> index: 30 is_alpha:  False is_punct:  True like_num:  False is_currency:  False\n",
            "and ==> index: 31 is_alpha:  True is_punct:  False like_num:  False is_currency:  False\n",
            "to ==> index: 32 is_alpha:  True is_punct:  False like_num:  False is_currency:  False\n",
            "a ==> index: 33 is_alpha:  True is_punct:  False like_num:  False is_currency:  False\n",
            "lesser ==> index: 34 is_alpha:  True is_punct:  False like_num:  False is_currency:  False\n",
            "extent ==> index: 35 is_alpha:  True is_punct:  False like_num:  False is_currency:  False\n",
            "Mauritania ==> index: 36 is_alpha:  True is_punct:  False like_num:  False is_currency:  False\n",
            ", ==> index: 37 is_alpha:  False is_punct:  True like_num:  False is_currency:  False\n",
            "northern ==> index: 38 is_alpha:  True is_punct:  False like_num:  False is_currency:  False\n",
            "Mali ==> index: 39 is_alpha:  True is_punct:  False like_num:  False is_currency:  False\n",
            ", ==> index: 40 is_alpha:  False is_punct:  True like_num:  False is_currency:  False\n",
            "and ==> index: 41 is_alpha:  True is_punct:  False like_num:  False is_currency:  False\n",
            "northern ==> index: 42 is_alpha:  True is_punct:  False like_num:  False is_currency:  False\n",
            "Niger ==> index: 43 is_alpha:  True is_punct:  False like_num:  False is_currency:  False\n",
            ". ==> index: 44 is_alpha:  False is_punct:  True like_num:  False is_currency:  False\n",
            "Smaller ==> index: 45 is_alpha:  True is_punct:  False like_num:  False is_currency:  False\n",
            "Berber ==> index: 46 is_alpha:  True is_punct:  False like_num:  False is_currency:  False\n",
            "communities ==> index: 47 is_alpha:  True is_punct:  False like_num:  False is_currency:  False\n",
            "are ==> index: 48 is_alpha:  True is_punct:  False like_num:  False is_currency:  False\n",
            "also ==> index: 49 is_alpha:  True is_punct:  False like_num:  False is_currency:  False\n",
            "found ==> index: 50 is_alpha:  True is_punct:  False like_num:  False is_currency:  False\n",
            "in ==> index: 51 is_alpha:  True is_punct:  False like_num:  False is_currency:  False\n",
            "Burkina ==> index: 52 is_alpha:  True is_punct:  False like_num:  False is_currency:  False\n",
            "Faso ==> index: 53 is_alpha:  True is_punct:  False like_num:  False is_currency:  False\n",
            "and ==> index: 54 is_alpha:  True is_punct:  False like_num:  False is_currency:  False\n",
            "Egypt ==> index: 55 is_alpha:  True is_punct:  False like_num:  False is_currency:  False\n",
            "Siwa ==> index: 56 is_alpha:  True is_punct:  False like_num:  False is_currency:  False\n",
            "Oasis ==> index: 57 is_alpha:  True is_punct:  False like_num:  False is_currency:  False\n",
            ". ==> index: 58 is_alpha:  False is_punct:  True like_num:  False is_currency:  False\n",
            "Historically ==> index: 59 is_alpha:  True is_punct:  False like_num:  False is_currency:  False\n",
            ", ==> index: 60 is_alpha:  False is_punct:  True like_num:  False is_currency:  False\n",
            "Berber ==> index: 61 is_alpha:  True is_punct:  False like_num:  False is_currency:  False\n",
            "nations ==> index: 62 is_alpha:  True is_punct:  False like_num:  False is_currency:  False\n",
            "have ==> index: 63 is_alpha:  True is_punct:  False like_num:  False is_currency:  False\n",
            "spoken ==> index: 64 is_alpha:  True is_punct:  False like_num:  False is_currency:  False\n",
            "Berber ==> index: 65 is_alpha:  True is_punct:  False like_num:  False is_currency:  False\n",
            "languages ==> index: 66 is_alpha:  True is_punct:  False like_num:  False is_currency:  False\n",
            ", ==> index: 67 is_alpha:  False is_punct:  True like_num:  False is_currency:  False\n",
            "which ==> index: 68 is_alpha:  True is_punct:  False like_num:  False is_currency:  False\n",
            "are ==> index: 69 is_alpha:  True is_punct:  False like_num:  False is_currency:  False\n",
            "a ==> index: 70 is_alpha:  True is_punct:  False like_num:  False is_currency:  False\n",
            "branch ==> index: 71 is_alpha:  True is_punct:  False like_num:  False is_currency:  False\n",
            "of ==> index: 72 is_alpha:  True is_punct:  False like_num:  False is_currency:  False\n",
            "the ==> index: 73 is_alpha:  True is_punct:  False like_num:  False is_currency:  False\n",
            "Afroasiatic ==> index: 74 is_alpha:  True is_punct:  False like_num:  False is_currency:  False\n",
            "language ==> index: 75 is_alpha:  True is_punct:  False like_num:  False is_currency:  False\n",
            "family ==> index: 76 is_alpha:  True is_punct:  False like_num:  False is_currency:  False\n",
            ". ==> index: 77 is_alpha:  False is_punct:  True like_num:  False is_currency:  False\n"
          ]
        }
      ]
    },
    {
      "cell_type": "code",
      "source": [
        "with open(\"emails.txt\") as f:\n",
        "  text=f.readlines()\n",
        "text"
      ],
      "metadata": {
        "colab": {
          "base_uri": "https://localhost:8080/"
        },
        "id": "3FxMo9GQMxTm",
        "outputId": "61907f75-41f9-4430-8326-c1ab3501c669"
      },
      "execution_count": 27,
      "outputs": [
        {
          "output_type": "execute_result",
          "data": {
            "text/plain": [
              "['ahmed 20 ahmed@gmail.com\\n',\n",
              " 'yasmine 22 yasmine@gmail.com\\n',\n",
              " 'daly 26 daly@gmail.com\\n',\n",
              " 'mahmoud 27 mahmoud@gmail.com\\n',\n",
              " 'sami 19 sami@gmail.com\\n',\n",
              " 'nizar 24 nizar@gmail.com\\n',\n",
              " 'omar 20 omar@gmail.com\\n',\n",
              " 'youssef 28 youssef@gmail.com\\n',\n",
              " 'mourad 30 mourad@gmail.com\\n',\n",
              " 'melek 31 melek@gmail.com\\n']"
            ]
          },
          "metadata": {},
          "execution_count": 27
        }
      ]
    },
    {
      "cell_type": "code",
      "source": [
        "text= ' '.join(text)\n",
        "text"
      ],
      "metadata": {
        "colab": {
          "base_uri": "https://localhost:8080/",
          "height": 70
        },
        "id": "uFcoMbsdPHhu",
        "outputId": "28bc5aa3-ada3-442d-aa10-c6189da850ed"
      },
      "execution_count": 28,
      "outputs": [
        {
          "output_type": "execute_result",
          "data": {
            "text/plain": [
              "'ahmed 20 ahmed@gmail.com\\n yasmine 22 yasmine@gmail.com\\n daly 26 daly@gmail.com\\n mahmoud 27 mahmoud@gmail.com\\n sami 19 sami@gmail.com\\n nizar 24 nizar@gmail.com\\n omar 20 omar@gmail.com\\n youssef 28 youssef@gmail.com\\n mourad 30 mourad@gmail.com\\n melek 31 melek@gmail.com\\n'"
            ],
            "application/vnd.google.colaboratory.intrinsic+json": {
              "type": "string"
            }
          },
          "metadata": {},
          "execution_count": 28
        }
      ]
    },
    {
      "cell_type": "code",
      "source": [
        "doc=nlp(text)"
      ],
      "metadata": {
        "id": "wutHSVoaPYBn"
      },
      "execution_count": 29,
      "outputs": []
    },
    {
      "cell_type": "code",
      "source": [
        "emails=[]\n",
        "for token in doc :\n",
        "  if token.like_email :\n",
        "    emails.append(token.text)"
      ],
      "metadata": {
        "id": "mtLnhpibQEcY"
      },
      "execution_count": 30,
      "outputs": []
    },
    {
      "cell_type": "code",
      "source": [
        "emails"
      ],
      "metadata": {
        "colab": {
          "base_uri": "https://localhost:8080/"
        },
        "id": "j4cmx3k7QZXh",
        "outputId": "5d599f63-b12e-4f62-d5a9-166b15f5fdce"
      },
      "execution_count": 31,
      "outputs": [
        {
          "output_type": "execute_result",
          "data": {
            "text/plain": [
              "['ahmed@gmail.com',\n",
              " 'yasmine@gmail.com',\n",
              " 'daly@gmail.com',\n",
              " 'mahmoud@gmail.com',\n",
              " 'sami@gmail.com',\n",
              " 'nizar@gmail.com',\n",
              " 'omar@gmail.com',\n",
              " 'youssef@gmail.com',\n",
              " 'mourad@gmail.com',\n",
              " 'melek@gmail.com']"
            ]
          },
          "metadata": {},
          "execution_count": 31
        }
      ]
    },
    {
      "cell_type": "code",
      "source": [
        "nlp=spacy.blank(\"ar\")"
      ],
      "metadata": {
        "id": "YY5tZPr_Qb8Z"
      },
      "execution_count": 32,
      "outputs": []
    },
    {
      "cell_type": "code",
      "source": [
        "doc=nlp(\"ترتقي اللغة وتنحط بارتقاء الأمة الناطقة بها و تتسع بمقدار سعة العقول\")"
      ],
      "metadata": {
        "id": "MO3G_pY7Q2RJ"
      },
      "execution_count": 33,
      "outputs": []
    },
    {
      "cell_type": "code",
      "source": [
        "for token in doc: \n",
        "  print(token, token.is_alpha)"
      ],
      "metadata": {
        "colab": {
          "base_uri": "https://localhost:8080/"
        },
        "id": "9T88wI2oSX-x",
        "outputId": "ee81b052-43e3-421c-acd1-8fe49d443b96"
      },
      "execution_count": 34,
      "outputs": [
        {
          "output_type": "stream",
          "name": "stdout",
          "text": [
            "ترتقي True\n",
            "اللغة True\n",
            "وتنحط True\n",
            "بارتقاء True\n",
            "الأمة True\n",
            "الناطقة True\n",
            "بها True\n",
            "و True\n",
            "تتسع True\n",
            "بمقدار True\n",
            "سعة True\n",
            "العقول True\n"
          ]
        }
      ]
    },
    {
      "cell_type": "code",
      "source": [
        "tokens=[token.text for token in doc ]\n",
        "tokens"
      ],
      "metadata": {
        "colab": {
          "base_uri": "https://localhost:8080/"
        },
        "id": "Ye-bo6DnSlNU",
        "outputId": "f49b7cef-4e91-46d3-9abb-a0ed553d726e"
      },
      "execution_count": 35,
      "outputs": [
        {
          "output_type": "execute_result",
          "data": {
            "text/plain": [
              "['ترتقي',\n",
              " 'اللغة',\n",
              " 'وتنحط',\n",
              " 'بارتقاء',\n",
              " 'الأمة',\n",
              " 'الناطقة',\n",
              " 'بها',\n",
              " 'و',\n",
              " 'تتسع',\n",
              " 'بمقدار',\n",
              " 'سعة',\n",
              " 'العقول']"
            ]
          },
          "metadata": {},
          "execution_count": 35
        }
      ]
    },
    {
      "cell_type": "code",
      "source": [
        "doc =  nlp('gimme double extra large healthy pizza')\n",
        "tokens =[token.text for token in doc ]\n",
        "tokens"
      ],
      "metadata": {
        "colab": {
          "base_uri": "https://localhost:8080/"
        },
        "id": "RYQ2lmLJTO62",
        "outputId": "fadf3032-152a-4280-f12b-a63aa5c9e715"
      },
      "execution_count": 36,
      "outputs": [
        {
          "output_type": "execute_result",
          "data": {
            "text/plain": [
              "['gimme', 'double', 'extra', 'large', 'healthy', 'pizza']"
            ]
          },
          "metadata": {},
          "execution_count": 36
        }
      ]
    },
    {
      "cell_type": "markdown",
      "source": [
        "customize "
      ],
      "metadata": {
        "id": "jMlyVkDXVJyC"
      }
    },
    {
      "cell_type": "code",
      "source": [
        "from spacy.symbols import ORTH"
      ],
      "metadata": {
        "id": "oAAzD6jyTXbO"
      },
      "execution_count": 37,
      "outputs": []
    },
    {
      "cell_type": "code",
      "source": [
        "nlp.tokenizer.add_special_case(\"gimme\",[{ORTH:\"gim\"},{ORTH:\"me\"}])"
      ],
      "metadata": {
        "id": "BWrnDtI7UGKB"
      },
      "execution_count": 38,
      "outputs": []
    },
    {
      "cell_type": "code",
      "source": [
        "doc =  nlp('gimme double extra large healthy pizza')\n",
        "tokens =[token.text for token in doc ]\n",
        "tokens"
      ],
      "metadata": {
        "colab": {
          "base_uri": "https://localhost:8080/"
        },
        "id": "PSpHhvNCUamo",
        "outputId": "26cebe19-1d4d-4520-ae28-d2f7b2778802"
      },
      "execution_count": 39,
      "outputs": [
        {
          "output_type": "execute_result",
          "data": {
            "text/plain": [
              "['gim', 'me', 'double', 'extra', 'large', 'healthy', 'pizza']"
            ]
          },
          "metadata": {},
          "execution_count": 39
        }
      ]
    },
    {
      "cell_type": "code",
      "source": [
        "doc=nlp(\"Dr. Strange loves pav bhaji of mumbai. Hulk loves chat of delhi\")\n",
        "for sentence in doc.sents : \n",
        "  print(sentence)"
      ],
      "metadata": {
        "id": "tmdUI0pqU6Tp",
        "colab": {
          "base_uri": "https://localhost:8080/",
          "height": 269
        },
        "outputId": "c268e7be-5792-47b8-a8f2-79f818405f56"
      },
      "execution_count": 41,
      "outputs": [
        {
          "output_type": "error",
          "ename": "ValueError",
          "evalue": "ignored",
          "traceback": [
            "\u001b[0;31m---------------------------------------------------------------------------\u001b[0m",
            "\u001b[0;31mValueError\u001b[0m                                Traceback (most recent call last)",
            "\u001b[0;32m<ipython-input-41-b3602ba7fa87>\u001b[0m in \u001b[0;36m<module>\u001b[0;34m\u001b[0m\n\u001b[1;32m      1\u001b[0m \u001b[0mdoc\u001b[0m\u001b[0;34m=\u001b[0m\u001b[0mnlp\u001b[0m\u001b[0;34m(\u001b[0m\u001b[0;34m\"Dr. Strange loves pav bhaji of mumbai, Hulk loves chat of delhi\"\u001b[0m\u001b[0;34m)\u001b[0m\u001b[0;34m\u001b[0m\u001b[0;34m\u001b[0m\u001b[0m\n\u001b[0;32m----> 2\u001b[0;31m \u001b[0;32mfor\u001b[0m \u001b[0msentence\u001b[0m \u001b[0;32min\u001b[0m \u001b[0mdoc\u001b[0m\u001b[0;34m.\u001b[0m\u001b[0msents\u001b[0m \u001b[0;34m:\u001b[0m\u001b[0;34m\u001b[0m\u001b[0;34m\u001b[0m\u001b[0m\n\u001b[0m\u001b[1;32m      3\u001b[0m   \u001b[0mprint\u001b[0m\u001b[0;34m(\u001b[0m\u001b[0msentence\u001b[0m\u001b[0;34m)\u001b[0m\u001b[0;34m\u001b[0m\u001b[0;34m\u001b[0m\u001b[0m\n",
            "\u001b[0;32m/usr/local/lib/python3.8/dist-packages/spacy/tokens/doc.pyx\u001b[0m in \u001b[0;36msents\u001b[0;34m()\u001b[0m\n",
            "\u001b[0;31mValueError\u001b[0m: [E030] Sentence boundaries unset. You can add the 'sentencizer' component to the pipeline with: `nlp.add_pipe('sentencizer')`. Alternatively, add the dependency parser or sentence recognizer, or set sentence boundaries by setting `doc[i].is_sent_start`."
          ]
        }
      ]
    },
    {
      "cell_type": "code",
      "source": [
        "nlp.pipe_names"
      ],
      "metadata": {
        "colab": {
          "base_uri": "https://localhost:8080/"
        },
        "id": "u3l75B9YVQET",
        "outputId": "d7537d75-4302-4522-daac-b4d06e4a71ce"
      },
      "execution_count": 42,
      "outputs": [
        {
          "output_type": "execute_result",
          "data": {
            "text/plain": [
              "[]"
            ]
          },
          "metadata": {},
          "execution_count": 42
        }
      ]
    },
    {
      "cell_type": "code",
      "source": [
        "\n",
        "nlp.add_pipe('sentencizer')"
      ],
      "metadata": {
        "colab": {
          "base_uri": "https://localhost:8080/"
        },
        "id": "atugY0HgWSyz",
        "outputId": "dd6a34f9-ce8a-40de-a850-ed79c7e8cd13"
      },
      "execution_count": 44,
      "outputs": [
        {
          "output_type": "execute_result",
          "data": {
            "text/plain": [
              "<spacy.pipeline.sentencizer.Sentencizer at 0x7fb40661e780>"
            ]
          },
          "metadata": {},
          "execution_count": 44
        }
      ]
    },
    {
      "cell_type": "code",
      "source": [
        "nlp.pipe_names"
      ],
      "metadata": {
        "colab": {
          "base_uri": "https://localhost:8080/"
        },
        "id": "eeJsehjnW2fF",
        "outputId": "8e64c132-a13e-4672-c869-de8784fcee6d"
      },
      "execution_count": 46,
      "outputs": [
        {
          "output_type": "execute_result",
          "data": {
            "text/plain": [
              "['sentencizer']"
            ]
          },
          "metadata": {},
          "execution_count": 46
        }
      ]
    },
    {
      "cell_type": "code",
      "source": [
        "doc=nlp(\"Dr. Strange loves pav bhaji of mumbai. Hulk loves chat of delhi\")\n",
        "for sentence in doc.sents : \n",
        "  print(sentence)"
      ],
      "metadata": {
        "colab": {
          "base_uri": "https://localhost:8080/"
        },
        "id": "19hYGyFxWkEy",
        "outputId": "30989178-12a1-407b-ad3f-a3890fa43eac"
      },
      "execution_count": 49,
      "outputs": [
        {
          "output_type": "stream",
          "name": "stdout",
          "text": [
            "Dr. Strange loves pav bhaji of mumbai. Hulk loves chat of delhi\n"
          ]
        }
      ]
    },
    {
      "cell_type": "code",
      "source": [
        "#importing necessary libraries \n",
        "import spacy\n",
        "\n",
        "nlp = spacy.load(\"en_core_web_sm\")  #creating an object and loading the pre-trained model for \"English\""
      ],
      "metadata": {
        "id": "GRf6N4-oWwNX"
      },
      "execution_count": 50,
      "outputs": []
    },
    {
      "cell_type": "markdown",
      "source": [
        "the exercice\n"
      ],
      "metadata": {
        "id": "j_PbUcInanyQ"
      }
    },
    {
      "cell_type": "code",
      "source": [
        "text = '''Ravi and Raju are the best friends from school days.They wanted to go for a world tour and \n",
        "visit famous cities like Paris, London, Dubai, Rome etc and also they called their another friend Mohan to take part of this world tour.\n",
        "They started their journey from Hyderabad and spent next 3 months travelling all the wonderful cities in the world and cherish a happy moments!\n",
        "'''\n",
        "\n",
        "# https://spacy.io/usage/linguistic-features\n",
        "\n",
        "#creating the nlp object\n",
        "doc = nlp(text)   "
      ],
      "metadata": {
        "id": "kz7_ZXgTagXW"
      },
      "execution_count": 52,
      "outputs": []
    },
    {
      "cell_type": "markdown",
      "source": [
        "Get all the proper nouns from a given text in a list and also count how many of them.\n",
        "Proper Noun means a noun that names a particular person, place, or thing."
      ],
      "metadata": {
        "id": "jBZ2Wg1oazs7"
      }
    },
    {
      "cell_type": "code",
      "source": [
        "propn_list=[]\n",
        "for token in doc:\n",
        "  if (token.pos_ =='PROPN'):\n",
        "    propn_list.append(token)\n",
        "propn_list"
      ],
      "metadata": {
        "colab": {
          "base_uri": "https://localhost:8080/"
        },
        "id": "nlJ4bWLvalMq",
        "outputId": "54b844e1-112d-4ec9-c0de-62e401142395"
      },
      "execution_count": 61,
      "outputs": [
        {
          "output_type": "execute_result",
          "data": {
            "text/plain": [
              "[Raju, Paris, London, Dubai, Rome, Mohan, Hyderabad]"
            ]
          },
          "metadata": {},
          "execution_count": 61
        }
      ]
    },
    {
      "cell_type": "code",
      "source": [
        "len(propn_list)"
      ],
      "metadata": {
        "colab": {
          "base_uri": "https://localhost:8080/"
        },
        "id": "vdMW_qb1bSO0",
        "outputId": "bdc1b144-a37b-4e89-c03f-af3b71d63c29"
      },
      "execution_count": 62,
      "outputs": [
        {
          "output_type": "execute_result",
          "data": {
            "text/plain": [
              "7"
            ]
          },
          "metadata": {},
          "execution_count": 62
        }
      ]
    },
    {
      "cell_type": "code",
      "source": [
        "text = '''The Top 5 companies in USA are Tesla, Walmart, Amazon, Microsoft, Google and the top 5 companies in \n",
        "India are Infosys, Reliance, HDFC Bank, Hindustan Unilever and Bharti Airtel'''\n",
        "\n",
        "\n",
        "doc = nlp(text)"
      ],
      "metadata": {
        "id": "u-S1CIXpc1_A"
      },
      "execution_count": 66,
      "outputs": []
    },
    {
      "cell_type": "markdown",
      "source": [
        "Get all companies names from a given text and also the count of them.\n",
        "Hint: Use the spacy ner functionality"
      ],
      "metadata": {
        "id": "6d35AWZgdQ1q"
      }
    },
    {
      "cell_type": "code",
      "source": [
        "comp_list=[]\n",
        "for token in doc.ents:\n",
        "  if (token.label_=='ORG'):\n",
        "    comp_list.append(token)\n",
        "comp_list"
      ],
      "metadata": {
        "colab": {
          "base_uri": "https://localhost:8080/"
        },
        "id": "q6muIt2vdQWL",
        "outputId": "dd0b027e-b1d7-443a-e0ba-06ccf495e4a2"
      },
      "execution_count": 72,
      "outputs": [
        {
          "output_type": "execute_result",
          "data": {
            "text/plain": [
              "[Walmart,\n",
              " Amazon,\n",
              " Microsoft,\n",
              " Google,\n",
              " Infosys,\n",
              " Reliance,\n",
              " HDFC Bank,\n",
              " Hindustan Unilever,\n",
              " Bharti Airtel]"
            ]
          },
          "metadata": {},
          "execution_count": 72
        }
      ]
    },
    {
      "cell_type": "code",
      "source": [
        "len(comp_list)"
      ],
      "metadata": {
        "colab": {
          "base_uri": "https://localhost:8080/"
        },
        "id": "sM1LKglAeFP7",
        "outputId": "cde6cdf3-9696-4f45-98a3-e70b06cebcb1"
      },
      "execution_count": 73,
      "outputs": [
        {
          "output_type": "execute_result",
          "data": {
            "text/plain": [
              "9"
            ]
          },
          "metadata": {},
          "execution_count": 73
        }
      ]
    },
    {
      "cell_type": "code",
      "source": [],
      "metadata": {
        "id": "M1LKFAmQfJTv"
      },
      "execution_count": null,
      "outputs": []
    }
  ]
}